{
  "nbformat": 4,
  "nbformat_minor": 0,
  "metadata": {
    "colab": {
      "provenance": [],
      "authorship_tag": "ABX9TyMZg4QGRlmj8RwfTsr04w0m",
      "include_colab_link": true
    },
    "kernelspec": {
      "name": "python3",
      "display_name": "Python 3"
    },
    "language_info": {
      "name": "python"
    }
  },
  "cells": [
    {
      "cell_type": "markdown",
      "metadata": {
        "id": "view-in-github",
        "colab_type": "text"
      },
      "source": [
        "<a href=\"https://colab.research.google.com/github/AllKashirin/Education/blob/main/Purchase_f.ipynb\" target=\"_parent\"><img src=\"https://colab.research.google.com/assets/colab-badge.svg\" alt=\"Open In Colab\"/></a>"
      ]
    },
    {
      "cell_type": "code",
      "execution_count": 1,
      "metadata": {
        "id": "PS1AtgutTKEk"
      },
      "outputs": [],
      "source": [
        "import json"
      ]
    },
    {
      "cell_type": "code",
      "source": [
        "i=0\n",
        "with open('purchase_log.txt') as f:\n",
        "    for line in f:\n",
        "        line=line.strip()\n",
        "        slovar=json.loads(line)\n",
        "        print(slovar, type(slovar))\n",
        "        i += 1\n",
        "        if i>10:\n",
        "            break"
      ],
      "metadata": {
        "colab": {
          "base_uri": "https://localhost:8080/"
        },
        "id": "TpdNwU3hUucB",
        "outputId": "a40bf9bf-9475-45b0-92a1-e44ad3ba97f7"
      },
      "execution_count": 5,
      "outputs": [
        {
          "output_type": "stream",
          "name": "stdout",
          "text": [
            "{'user_id': 'user_id', 'category': 'category'} <class 'dict'>\n",
            "{'category': 'Продукты', 'user_id': '1840e0b9d4'} <class 'dict'>\n",
            "{'user_id': '4e4f90fcfb', 'category': 'Электроника'} <class 'dict'>\n",
            "{'user_id': 'afea8d72fc', 'category': 'Электроника'} <class 'dict'>\n",
            "{'user_id': '373a6055fe', 'category': 'Бытовая техника'} <class 'dict'>\n",
            "{'user_id': '9b2ab046f3', 'category': 'Электроника'} <class 'dict'>\n",
            "{'user_id': '9f39d307c3', 'category': 'Электроника'} <class 'dict'>\n",
            "{'user_id': '44edeffc91', 'category': 'Продукты'} <class 'dict'>\n",
            "{'user_id': '704474fa2d', 'category': 'Продукты'} <class 'dict'>\n",
            "{'user_id': '1de31be403', 'category': 'Бытовая техника'} <class 'dict'>\n",
            "{'user_id': 'b71f36a5e4', 'category': 'Продукты'} <class 'dict'>\n"
          ]
        }
      ]
    }
  ]
}