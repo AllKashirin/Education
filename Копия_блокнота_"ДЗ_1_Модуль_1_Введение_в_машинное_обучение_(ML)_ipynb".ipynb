{
  "cells": [
    {
      "cell_type": "markdown",
      "metadata": {
        "id": "view-in-github",
        "colab_type": "text"
      },
      "source": [
        "<a href=\"https://colab.research.google.com/github/AllKashirin/Education/blob/main/%D0%9A%D0%BE%D0%BF%D0%B8%D1%8F_%D0%B1%D0%BB%D0%BE%D0%BA%D0%BD%D0%BE%D1%82%D0%B0_%22%D0%94%D0%97_1_%D0%9C%D0%BE%D0%B4%D1%83%D0%BB%D1%8C_1_%D0%92%D0%B2%D0%B5%D0%B4%D0%B5%D0%BD%D0%B8%D0%B5_%D0%B2_%D0%BC%D0%B0%D1%88%D0%B8%D0%BD%D0%BD%D0%BE%D0%B5_%D0%BE%D0%B1%D1%83%D1%87%D0%B5%D0%BD%D0%B8%D0%B5_(ML)_ipynb%22.ipynb\" target=\"_parent\"><img src=\"https://colab.research.google.com/assets/colab-badge.svg\" alt=\"Open In Colab\"/></a>"
      ]
    },
    {
      "cell_type": "markdown",
      "source": [
        "# Цель задания\n",
        "\n",
        "В этом ноутбуке вам нужно выполнить задания на первичную работу с датасетом: импорт, первичный просмотр и замену значений колонок.\n",
        "\n",
        "Каждое выполненное задание оценивается в 2 балла:\n",
        "\n",
        "* Задание выполнено корректно — 2 балла.\n",
        "* Задание выполнено частично верно — 1 балл.\n",
        "* Задание выполнено неверно — 0 баллов.\n",
        "\n",
        "\n",
        "**Формат сдачи:** вам нужно прикрепить на платформе ссылку на измененный ноутбук (только **ссылку**, сам файл ipynb присылать не нужно).\n",
        "\n",
        "**Условия сдачи:** ваш блокнот должен без ошибок автоматически выполнять весь код при нажатии\t«Среда выполнения» / \t«Выполнить все» в верхнем меню.\n",
        "\n",
        "В этом ноутбуке реализовано разделение на уровни сложности и идентификация автора работы. Для выполнения задания следуйте инструкциям ниже."
      ],
      "metadata": {
        "id": "_xYmOJg8ZYos"
      }
    },
    {
      "cell_type": "markdown",
      "source": [
        "## Выбор уровня сложности\n",
        "\n",
        "Запустите код в этой ячейке, чтобы выбрать один из трех уровней сложности.\n",
        "\n",
        "Выбор уровня сложности не влияет на максимальное количество баллов, которые вы можете получить."
      ],
      "metadata": {
        "id": "1TPtEcKeBuT7"
      }
    },
    {
      "cell_type": "code",
      "execution_count": null,
      "metadata": {
        "_uuid": "568eb2d31004b87d22e119112ae01a1e75105f1d",
        "id": "XWt73w0RI3hj"
      },
      "outputs": [],
      "source": [
        "%%capture\n",
        "!pip install pandas==2.0.3 gdown==4.7.3 requests==2.31.0 apimoex==1.4.0 lxml==4.9.4 ipynbname==2023.2.0.0\n",
        "import pandas as pd\n",
        "import matplotlib.pyplot as plt\n",
        "import numpy as np\n",
        "import gdown\n",
        "import time\n",
        "import json\n",
        "import requests\n",
        "import apimoex\n",
        "import hashlib\n",
        "from IPython.display import Markdown\n",
        "import ipywidgets as widgets\n",
        "from ipywidgets import Button\n",
        "from IPython.display import display\n",
        "start = time.time()"
      ]
    },
    {
      "cell_type": "code",
      "source": [
        "import ipywidgets as widgets\n",
        "student_topic_choice = 2\n",
        "topics_list = ['Простое: классификация цветов (150 строк)',\n",
        "               'Стандартное: отзывы по кинофильмам (1,000 строк)',\n",
        "               'Сложное: выявление мошенничества с кредитными картами (284,807 строк)']\n",
        "topic_options = {topic: index + 1 for index, topic in enumerate(topics_list)}\n",
        "select_widget = widgets.Dropdown(options=topic_options.keys(), value=topics_list[student_topic_choice-1], description='Выбор:')\n",
        "\n",
        "def on_select(change):\n",
        "    global student_topic_choice\n",
        "    student_topic_choice = topic_options[change['new']]\n",
        "    display(Markdown(f\"выбрана тематика заданий: **{change['new']}**\"))\n",
        "\n",
        "select_widget.observe(on_select, names='value')\n",
        "display(Markdown(\"\"\"Мне интересно задание\"\"\"))\n",
        "select_widget"
      ],
      "metadata": {
        "colab": {
          "base_uri": "https://localhost:8080/",
          "referenced_widgets": [
            "350565fa1e66457aa8187f503179efc9",
            "38cfaf29b5574a7aa864198e8b9f92b1",
            "5164f93bffdc4eb8951f10d92523f3f1"
          ],
          "height": 76
        },
        "id": "4SrvZtLwB4bs",
        "outputId": "b099c276-430c-4509-91c3-83cce955d49e"
      },
      "execution_count": null,
      "outputs": [
        {
          "output_type": "display_data",
          "data": {
            "text/plain": [
              "<IPython.core.display.Markdown object>"
            ],
            "text/markdown": "Мне интересно задание"
          },
          "metadata": {}
        },
        {
          "output_type": "display_data",
          "data": {
            "text/plain": [
              "Dropdown(description='Выбор:', index=1, options=('Простое: классификация цветов (150 строк)', 'Стандартное: от…"
            ],
            "application/vnd.jupyter.widget-view+json": {
              "version_major": 2,
              "version_minor": 0,
              "model_id": "350565fa1e66457aa8187f503179efc9"
            }
          },
          "metadata": {}
        }
      ]
    },
    {
      "cell_type": "markdown",
      "metadata": {
        "id": "nhhCVqKsf--_"
      },
      "source": [
        "## Идентификация автора работы\n"
      ]
    },
    {
      "cell_type": "markdown",
      "source": [
        "После запуска этого кода блока вы становитесь автором данного блокнота, запрещая другим студентам пользоваться результатами своего труда, и принимаете на себя обязательства не передавать другим студентам ссылку на данный блокнот и/или файл ipynb.\n",
        "\n",
        "В процессе выполнения кода приложение запросит доступ к данным вашего Google-аккаунта и созданию файлов. Это необходимо для создания промежуточных файлов, которые помогут подтвердить авторство работы.\n",
        "\n",
        "Если вы не доверяете приложению, вы можете завести дополнительный Google-аккаунт, на котором будут размещаться ноутбуки."
      ],
      "metadata": {
        "id": "99uVHuk5q6Ct"
      }
    },
    {
      "cell_type": "code",
      "execution_count": null,
      "metadata": {
        "colab": {
          "base_uri": "https://localhost:8080/"
        },
        "outputId": "4d6e072c-0f14-4c1e-bbb1-61f18e8ba86d",
        "id": "A6a2XtCWKaTS"
      },
      "outputs": [
        {
          "output_type": "stream",
          "name": "stdout",
          "text": [
            "Mounted at /content/drive\n",
            "Зафиксировано авторство \"OK\" {'timestamp_remote': '2024-04-21T09:33:50.957635', 'email_hash': 'b10ff273099d0ec13c15670e06f6d06c8ec567a1a890751a6da076b555f67022', 'homework_no': '1', 'nb_name': 'fileId=14lrVgG5-nuv8b8l582dwzIzrLp1Jk8N8', 'sealed': '32466b3e468d83fd3537a172bb2b133447ad3d199e8e542bfb51e940904817c5'}\n"
          ]
        }
      ],
      "source": [
        "import hashlib\n",
        "from google.colab import auth\n",
        "from google.colab import drive\n",
        "from googleapiclient.discovery import build\n",
        "from googleapiclient.http import MediaFileUpload\n",
        "import requests\n",
        "import json\n",
        "import uuid\n",
        "import datetime\n",
        "import ipynbname\n",
        "auth.authenticate_user()\n",
        "drive_service = build('drive', 'v3')                #разрешите доступ на чтение вашего email\n",
        "drive.mount('/content/drive', force_remount = True) #разрешите доступ на запись на ваш Google Drive\n",
        "nb_name = ipynbname.name()\n",
        "file_id = str(uuid.uuid4())\n",
        "with open(\"/content/\"+file_id, 'w') as f:  f.write(file_id)\n",
        "# метод создает файл на Google Drive и потом его удаляет\n",
        "file_metadata = {'name': 'unique_marker_'+file_id,'mimeType': 'text/plain'}\n",
        "media = MediaFileUpload(\"/content/\"+file_id,mimetype='text/plain', resumable=True)\n",
        "created = drive_service.files().create(body=file_metadata,media_body=media,\n",
        "                                       fields='id').execute()\n",
        "response = drive_service.files().get(fileId=created.get('id'), fields='owners(emailAddress)').execute()\n",
        "owner_email = response['owners'][0]['emailAddress']\n",
        "response = drive_service.files().delete(fileId=created.get('id')).execute()\n",
        "\n",
        "def get_hashed_email():\n",
        "  hashed_email =hashlib.sha256(str.encode(owner_email)).hexdigest()\n",
        "  return hashed_email\n",
        "moment = datetime.datetime.now().isoformat()\n",
        "exclusive_copyright = {\n",
        "    \"timestamp_remote\":str(moment),\n",
        "    \"email_hash\":str(get_hashed_email()),\n",
        "    \"homework_no\":\"1\",\n",
        "    \"nb_name\":nb_name,\n",
        "    \"sealed\":hashlib.sha256(str.encode(owner_email+\":\"+moment+\":\"+nb_name)).hexdigest()\n",
        "}\n",
        "result = requests.post('https://autotest-egister.amvera.io/exclusive_copyright/', data=json.dumps(exclusive_copyright)).text\n",
        "\n",
        "print(f\"Зафиксировано авторство {result}\",exclusive_copyright)"
      ]
    },
    {
      "cell_type": "markdown",
      "source": [
        "## Задание 1. Скачать набор данных"
      ],
      "metadata": {
        "id": "lA0kit8NzUr0"
      }
    },
    {
      "cell_type": "code",
      "source": [
        "#Этот код напечатает задание №1 внизу\n",
        "datasets =[\"https://drive.google.com/file/d/16AywvoN-T7MSUF03S7JI8J3LxKdE8evr/view?usp=sharing\",\n",
        "           \"https://drive.google.com/file/d/1NIfSlJBgifWORnUoA3sfCxir37M_Cr79/view?usp=sharing\",\n",
        "           \"https://drive.google.com/file/d/1cjjoUh5tkZNgT_EinKv3uDeUytF5huJF/view?usp=sharing\"]\n",
        "\n",
        "description = [\"\"\"В файле находится информация о цветках. Всего 3 группы цветов.\n",
        "Изучите [инструкцию](https://pandas.pydata.org/pandas-docs/dev/reference/api/pandas.read_csv.html), как можно загрузить данные в блокнот.\n",
        "<br>\n",
        "В загруженной таблице должно быть 150 строк и 5 столбцов.\n",
        "Напечатайте несколько строк таблицы для демонстрации результата.\"\"\",\n",
        "\"\"\"Напишите код для скачивания в автоматическом режиме файла с помощью: либо команд [curl](https://curl.se/docs/manpage.html) или [wget](https://www.gnu.org/software/wget/manual/wget.html), либо библиотеки [gdown](https://pypi.org/project/gdown/)\"\"\",\n",
        "\"\"\"Напишите код для скачивания в автоматическом режиме файла с помощью: либо команд [curl](https://curl.se/docs/manpage.html) или [wget](https://www.gnu.org/software/wget/manual/wget.html), либо библиотеки [gdown](https://pypi.org/project/gdown/)\n",
        "и используйте [библиотеку разархивации](https://docs.python.org/3/library/zipfile.html).\"\"\"]\n",
        "display(Markdown(f\"\"\"Ссылкa на [набор данных]({datasets[student_topic_choice-1]})<br>{description[student_topic_choice-1]}\"\"\"))"
      ],
      "metadata": {
        "colab": {
          "base_uri": "https://localhost:8080/",
          "height": 64
        },
        "id": "ssmRuzZazGm_",
        "outputId": "83b015a7-93d7-4a3f-b4b1-e6064e90c77e"
      },
      "execution_count": null,
      "outputs": [
        {
          "output_type": "display_data",
          "data": {
            "text/plain": [
              "<IPython.core.display.Markdown object>"
            ],
            "text/markdown": "Ссылкa на [набор данных](https://drive.google.com/file/d/1NIfSlJBgifWORnUoA3sfCxir37M_Cr79/view?usp=sharing)<br>Напишите код для скачивания в автоматическом режиме файла с помощью: либо команд [curl](https://curl.se/docs/manpage.html) или [wget](https://www.gnu.org/software/wget/manual/wget.html), либо библиотеки [gdown](https://pypi.org/project/gdown/)"
          },
          "metadata": {}
        }
      ]
    },
    {
      "cell_type": "code",
      "execution_count": null,
      "metadata": {
        "id": "DzUWvHLEI3hq",
        "colab": {
          "base_uri": "https://localhost:8080/",
          "height": 36
        },
        "outputId": "d50305c4-0f1d-486b-a3a4-11d26cd80156"
      },
      "outputs": [
        {
          "output_type": "execute_result",
          "data": {
            "text/plain": [
              "''"
            ],
            "application/vnd.google.colaboratory.intrinsic+json": {
              "type": "string"
            }
          },
          "metadata": {},
          "execution_count": 18
        }
      ],
      "source": [
        "def task1():\n",
        "  result = \"\"\n",
        "  #Напишите код ниже этой строки\n",
        "\n",
        "  #Вот здесь\n",
        "\n",
        "  #Напишите код выше этой строки\n",
        "  return result #эту строку нельзя редактировать\n",
        "\n",
        "task1()"
      ]
    },
    {
      "cell_type": "markdown",
      "source": [
        "## Задание 2. Изменить полученную таблицу (датафрейм)\n",
        "\n",
        "Запустите"
      ],
      "metadata": {
        "id": "jSHV-0Yv3Zx4"
      }
    },
    {
      "cell_type": "markdown",
      "source": [
        "### Задание"
      ],
      "metadata": {
        "id": "JBIzC3lBRj-5"
      }
    },
    {
      "cell_type": "code",
      "source": [
        "#Програмное создание задания №2\n",
        "description = [\"\"\"[Добавьте](https://pandas.pydata.org/pandas-docs/stable/reference/api/pandas.DataFrame.insert.html#pandas.DataFrame.insert) пустой столбец probability в  полученную таблицу. [Напечатайте](https://pandas.pydata.org/pandas-docs/stable/reference/api/pandas.DataFrame.head.html#pandas.DataFrame.head) первые 10 строк этой таблицы (датафрейма).\"\"\",\n",
        "\"\"\"Выведите таблицу в [формате](https://colab.research.google.com/notebooks/data_table.ipynb) управляемого отображениения количества строк\"\"\",\n",
        "\"\"\"Напишите код, чтобы переставить местами колонки №1 и №2 (первая слева занимает место второй слева, а та, которая была второй слева, становится на место первой слева).\"\"\"]\n",
        "display(Markdown(f\"\"\"{description[student_topic_choice-1]}\"\"\"))\n"
      ],
      "metadata": {
        "colab": {
          "base_uri": "https://localhost:8080/",
          "height": 46
        },
        "outputId": "0217c706-8ff1-44ef-fd4e-e0971089c3ef",
        "id": "bR4RHE3cxv_B"
      },
      "execution_count": null,
      "outputs": [
        {
          "output_type": "display_data",
          "data": {
            "text/plain": [
              "<IPython.core.display.Markdown object>"
            ],
            "text/markdown": "Выведите таблицу в [формате](https://colab.research.google.com/notebooks/data_table.ipynb) управляемого отображениения количества строк"
          },
          "metadata": {}
        }
      ]
    },
    {
      "cell_type": "code",
      "execution_count": null,
      "metadata": {
        "_uuid": "fe62eee87b9b94ab923f57b55eaf0554612aa9e9",
        "id": "5goqxI-ZI3hx",
        "colab": {
          "base_uri": "https://localhost:8080/",
          "height": 36
        },
        "outputId": "821003e2-9134-4116-f116-259d707f2d22"
      },
      "outputs": [
        {
          "output_type": "execute_result",
          "data": {
            "text/plain": [
              "''"
            ],
            "application/vnd.google.colaboratory.intrinsic+json": {
              "type": "string"
            }
          },
          "metadata": {},
          "execution_count": 20
        }
      ],
      "source": [
        "def task2():\n",
        "  result = \"\"\n",
        "  #Напишите код ниже этой строки\n",
        "\n",
        "  #Вот здесь\n",
        "\n",
        "  #Напишите код выше этой строки\n",
        "  return result        #эту строку нельзя редактировать\n",
        "\n",
        "task2()"
      ]
    },
    {
      "cell_type": "markdown",
      "metadata": {
        "_uuid": "5fcd622942b7ecfc318934c6a245d3bb3bf01e84",
        "id": "DsfTrLSuI3h5"
      },
      "source": [
        "## Задание 3. Получить характеристики данных в датафрейме"
      ]
    },
    {
      "cell_type": "code",
      "source": [
        "#Програмное создание задания №3\n",
        "from unicodedata import normalize\n",
        "description = [\"\"\"Выведите на экран [размерность данных](https://pandas.pydata.org/pandas-docs/stable/reference/api/pandas.DataFrame.shape.html#pandas.DataFrame.shape).\"\"\",\n",
        "\"\"\"[Спарсите](https://pandas.pydata.org/pandas-docs/stable/reference/api/pandas.read_html.html) таблицу с [сайта ЦБ РФ](https://cbr.ru/currency_base/dynamics/?UniDbQuery.Posted=True&UniDbQuery.so=1&UniDbQuery.mode=1&UniDbQuery.date_req1=&UniDbQuery.date_req2=&UniDbQuery.VAL_NM_RQ=R01010&UniDbQuery.From=06.04.2024&UniDbQuery.To=13.04.2024) и выведите на экран колонку \"Курс\".\"\"\",\n",
        "\"\"\"[Спарсите](https://pandas.pydata.org/pandas-docs/stable/reference/api/pandas.read_html.html) таблицу с [сайта ЦБ РФ](https://cbr.ru/currency_base/dynamics/?UniDbQuery.Posted=True&UniDbQuery.so=1&UniDbQuery.mode=1&UniDbQuery.date_req1=&UniDbQuery.date_req2=&UniDbQuery.VAL_NM_RQ=R01010&UniDbQuery.From=06.04.2024&UniDbQuery.To=13.04.2024) и выведите на экран [отфильтрованную строку](https://pandas.pydata.org/pandas-docs/stable/reference/api/pandas.DataFrame.loc.html#pandas.DataFrame.loc) с курсом на 12.04.2024.\"\"\"]\n",
        "display(Markdown(f\"\"\"{description[student_topic_choice-1]}\"\"\"))\n"
      ],
      "metadata": {
        "colab": {
          "base_uri": "https://localhost:8080/",
          "height": 46
        },
        "outputId": "98be7c6c-9174-4f2b-8574-73e9d2f6f952",
        "id": "bNWo3ChtAQzL"
      },
      "execution_count": null,
      "outputs": [
        {
          "output_type": "display_data",
          "data": {
            "text/plain": [
              "<IPython.core.display.Markdown object>"
            ],
            "text/markdown": "[Спарсите](https://pandas.pydata.org/pandas-docs/stable/reference/api/pandas.read_html.html) таблицу с [сайта ЦБ РФ](https://cbr.ru/currency_base/dynamics/?UniDbQuery.Posted=True&UniDbQuery.so=1&UniDbQuery.mode=1&UniDbQuery.date_req1=&UniDbQuery.date_req2=&UniDbQuery.VAL_NM_RQ=R01010&UniDbQuery.From=06.04.2024&UniDbQuery.To=13.04.2024) и выведите на экран колонку \"Курс\"."
          },
          "metadata": {}
        }
      ]
    },
    {
      "cell_type": "code",
      "execution_count": null,
      "metadata": {
        "_uuid": "16281cd7b4e941ebed8ca2e1b42f62f55d838684",
        "id": "drEJ0milI3h7",
        "colab": {
          "base_uri": "https://localhost:8080/",
          "height": 36
        },
        "outputId": "edea7671-aa73-42f8-b039-358bd148520a"
      },
      "outputs": [
        {
          "output_type": "execute_result",
          "data": {
            "text/plain": [
              "''"
            ],
            "application/vnd.google.colaboratory.intrinsic+json": {
              "type": "string"
            }
          },
          "metadata": {},
          "execution_count": 22
        }
      ],
      "source": [
        "def task3():\n",
        "  result = \"\"\n",
        "  #Напишите код ниже этой строки\n",
        "\n",
        "  #Вот здесь\n",
        "\n",
        "  #Напишите код выше этой строки\n",
        "  return result #эту строку нельзя редактировать\n",
        "\n",
        "task3()"
      ]
    },
    {
      "cell_type": "markdown",
      "metadata": {
        "_uuid": "fe8e3d58d29ca25dbbcf001392377643e6ff9a36",
        "id": "sU-Yab1eI3h8"
      },
      "source": [
        "## Задание 4. Вывести на экран описательные характеристики числовых столбцов таблицы (минимум, максимум, среднее значение, стандартное отклонение)"
      ]
    },
    {
      "cell_type": "code",
      "execution_count": null,
      "metadata": {
        "_uuid": "e3d4bb80d2c4251fe517c24fcf08c5ff2d67b8aa",
        "id": "J7VYbZowI3h9",
        "colab": {
          "base_uri": "https://localhost:8080/",
          "height": 36
        },
        "outputId": "c479fb96-1a87-45b4-b06f-a943634b6a76"
      },
      "outputs": [
        {
          "output_type": "execute_result",
          "data": {
            "text/plain": [
              "''"
            ],
            "application/vnd.google.colaboratory.intrinsic+json": {
              "type": "string"
            }
          },
          "metadata": {},
          "execution_count": 23
        }
      ],
      "source": [
        "def task4():\n",
        "  result = \"\"\n",
        "  #Напишите код ниже этой строки\n",
        "\n",
        "  #Вот здесь\n",
        "\n",
        "  #Напишите код выше этой строки\n",
        "  return result #эту строку нельзя редактировать\n",
        "\n",
        "task4()"
      ]
    },
    {
      "cell_type": "markdown",
      "metadata": {
        "_uuid": "b26b7de83485ecb3b8a0a7865a596e24527c7b2f",
        "id": "NsYVgtrCI3iN"
      },
      "source": [
        "## Задание 5. Изучить API Московской биржи\n"
      ]
    },
    {
      "cell_type": "markdown",
      "source": [
        "\n",
        "<img src=\"https://filearchive.cnews.ru/img/book/2022/01/13/moex.png\" width=\"150px\">\n",
        "\n",
        "Ознакомьтесь [с описанием](https://wlm1ke.github.io/apimoex/build/html/getting_started.html) и реализуйте загрузку котировок акций ПАО «Аэрофлот» (символ — AFLT) высокоуровневым готовым загрузчиком, разработанным Московской биржей.\n",
        "\n",
        "Итоговый датафрейм должен содержать значения котировок с 01.04.2024 (включительно) по 13.04.2024 (включительно).\n",
        "\n",
        "*Примечание: иногда API Московской биржи не срабатывает в коллабе, но срабатывает при запуске на локальном компьютере.*"
      ],
      "metadata": {
        "id": "UQZ5T6vrowIO"
      }
    },
    {
      "cell_type": "code",
      "execution_count": null,
      "metadata": {
        "_uuid": "4eac3f8f83d07c6e58ad1576fe0e773f37034a2f",
        "id": "rOkS5_eMI3iN",
        "colab": {
          "base_uri": "https://localhost:8080/",
          "height": 36
        },
        "outputId": "b45fd04f-1499-487e-eccf-eb4e27fcbbad"
      },
      "outputs": [
        {
          "output_type": "execute_result",
          "data": {
            "text/plain": [
              "''"
            ],
            "application/vnd.google.colaboratory.intrinsic+json": {
              "type": "string"
            }
          },
          "metadata": {},
          "execution_count": 24
        }
      ],
      "source": [
        "def task5():\n",
        "  result = \"\"\n",
        "  #Напишите код ниже этой строки\n",
        "\n",
        "  #Вот здесь\n",
        "\n",
        "  #Напишите код выше этой строки\n",
        "  return result #эту строку нельзя редактировать\n",
        "\n",
        "task5()"
      ]
    },
    {
      "cell_type": "markdown",
      "source": [
        "## Отметка о выполнении задания"
      ],
      "metadata": {
        "id": "1ntAHf4KRSkL"
      }
    },
    {
      "cell_type": "code",
      "execution_count": null,
      "metadata": {
        "_uuid": "04707c5be4237020b906d2ac705a0db3d620506f",
        "id": "D-peU06IlSwT"
      },
      "outputs": [],
      "source": [
        "%%capture\n",
        "def send_submission_attempt(b):\n",
        "  result = requests.post(str('https://autotest-egister.amvera.io/submission_attempt/'),\n",
        "  data=json.dumps({\n",
        "      \"start\":str(start),\n",
        "      \"task1\":str(task1())[:100],\n",
        "      \"task2\":str(task2())[:100],\n",
        "      \"task3\":str(task3())[:100],\n",
        "      \"task4\":str(task4())[:100],\n",
        "      \"task5\":str(task5())[:100],\n",
        "      \"id\":get_hashed_email()+\":\"+nb_name,\n",
        "      \"stop\":str(time.time()),\n",
        "      \"duration\":str(time.time()-start),\n",
        "      \"homework\":1\n",
        "  })).text\n",
        "  display(Markdown(f\"Результат отправки {result} {datetime.datetime.now().isoformat()}\"))\n",
        "button = Button(description='Отправить')\n",
        "button.on_click(send_submission_attempt)"
      ]
    },
    {
      "cell_type": "code",
      "source": [
        "checkbox = widgets.Checkbox(value=False, description='подтверждаю')\n",
        "display(Markdown(\"Я закончил(а) работу с заданиями. Эту работу я выполнил(а) самостоятельно.\"),checkbox,button)"
      ],
      "metadata": {
        "colab": {
          "base_uri": "https://localhost:8080/",
          "referenced_widgets": [
            "7f06eddcb4f84b56b40c4043c8af5da3",
            "a6ad2e09ba8d4b359b29cd14e2b9be22",
            "b29502fa7a7f4c85a774ed0a397b701c",
            "e587d035e3634b7db7fa0c72b9039b52",
            "83e20668ba1040b1b675734fa13e27d0",
            "11a17e97397147f384f46d56fbc20994"
          ],
          "height": 138
        },
        "id": "ntyFTZzqPh8d",
        "outputId": "b460f2fa-4ac9-4667-cca3-cd2b373dcb03"
      },
      "execution_count": null,
      "outputs": [
        {
          "output_type": "display_data",
          "data": {
            "text/plain": [
              "<IPython.core.display.Markdown object>"
            ],
            "text/markdown": "Я закончил(а) работу с заданиями. Эту работу я выполнил(а) самостоятельно."
          },
          "metadata": {}
        },
        {
          "output_type": "display_data",
          "data": {
            "text/plain": [
              "Checkbox(value=False, description='подтверждаю')"
            ],
            "application/vnd.jupyter.widget-view+json": {
              "version_major": 2,
              "version_minor": 0,
              "model_id": "7f06eddcb4f84b56b40c4043c8af5da3"
            }
          },
          "metadata": {}
        },
        {
          "output_type": "display_data",
          "data": {
            "text/plain": [
              "Button(description='Отправить', style=ButtonStyle())"
            ],
            "application/vnd.jupyter.widget-view+json": {
              "version_major": 2,
              "version_minor": 0,
              "model_id": "e587d035e3634b7db7fa0c72b9039b52"
            }
          },
          "metadata": {}
        },
        {
          "output_type": "display_data",
          "data": {
            "text/plain": [
              "<IPython.core.display.Markdown object>"
            ],
            "text/markdown": "Результат отправки \"OK\" 2024-04-21T09:34:56.225648"
          },
          "metadata": {}
        }
      ]
    }
  ],
  "metadata": {
    "kernelspec": {
      "display_name": "Python 3",
      "language": "python",
      "name": "python3"
    },
    "language_info": {
      "codemirror_mode": {
        "name": "ipython",
        "version": 3
      },
      "file_extension": ".py",
      "mimetype": "text/x-python",
      "name": "python",
      "nbconvert_exporter": "python",
      "pygments_lexer": "ipython3",
      "version": "3.7.6"
    },
    "colab": {
      "provenance": [],
      "include_colab_link": true
    },
    "widgets": {
      "application/vnd.jupyter.widget-state+json": {
        "350565fa1e66457aa8187f503179efc9": {
          "model_module": "@jupyter-widgets/controls",
          "model_name": "DropdownModel",
          "model_module_version": "1.5.0",
          "state": {
            "_dom_classes": [],
            "_model_module": "@jupyter-widgets/controls",
            "_model_module_version": "1.5.0",
            "_model_name": "DropdownModel",
            "_options_labels": [
              "Простое: классификация цветов (150 строк)",
              "Стандартное: отзывы по кинофильмам (1,000 строк)",
              "Сложное: выявление мошенничества с кредитными картами (284,807 строк)"
            ],
            "_view_count": null,
            "_view_module": "@jupyter-widgets/controls",
            "_view_module_version": "1.5.0",
            "_view_name": "DropdownView",
            "description": "Выбор:",
            "description_tooltip": null,
            "disabled": false,
            "index": 1,
            "layout": "IPY_MODEL_38cfaf29b5574a7aa864198e8b9f92b1",
            "style": "IPY_MODEL_5164f93bffdc4eb8951f10d92523f3f1"
          }
        },
        "38cfaf29b5574a7aa864198e8b9f92b1": {
          "model_module": "@jupyter-widgets/base",
          "model_name": "LayoutModel",
          "model_module_version": "1.2.0",
          "state": {
            "_model_module": "@jupyter-widgets/base",
            "_model_module_version": "1.2.0",
            "_model_name": "LayoutModel",
            "_view_count": null,
            "_view_module": "@jupyter-widgets/base",
            "_view_module_version": "1.2.0",
            "_view_name": "LayoutView",
            "align_content": null,
            "align_items": null,
            "align_self": null,
            "border": null,
            "bottom": null,
            "display": null,
            "flex": null,
            "flex_flow": null,
            "grid_area": null,
            "grid_auto_columns": null,
            "grid_auto_flow": null,
            "grid_auto_rows": null,
            "grid_column": null,
            "grid_gap": null,
            "grid_row": null,
            "grid_template_areas": null,
            "grid_template_columns": null,
            "grid_template_rows": null,
            "height": null,
            "justify_content": null,
            "justify_items": null,
            "left": null,
            "margin": null,
            "max_height": null,
            "max_width": null,
            "min_height": null,
            "min_width": null,
            "object_fit": null,
            "object_position": null,
            "order": null,
            "overflow": null,
            "overflow_x": null,
            "overflow_y": null,
            "padding": null,
            "right": null,
            "top": null,
            "visibility": null,
            "width": null
          }
        },
        "5164f93bffdc4eb8951f10d92523f3f1": {
          "model_module": "@jupyter-widgets/controls",
          "model_name": "DescriptionStyleModel",
          "model_module_version": "1.5.0",
          "state": {
            "_model_module": "@jupyter-widgets/controls",
            "_model_module_version": "1.5.0",
            "_model_name": "DescriptionStyleModel",
            "_view_count": null,
            "_view_module": "@jupyter-widgets/base",
            "_view_module_version": "1.2.0",
            "_view_name": "StyleView",
            "description_width": ""
          }
        },
        "7f06eddcb4f84b56b40c4043c8af5da3": {
          "model_module": "@jupyter-widgets/controls",
          "model_name": "CheckboxModel",
          "model_module_version": "1.5.0",
          "state": {
            "_dom_classes": [],
            "_model_module": "@jupyter-widgets/controls",
            "_model_module_version": "1.5.0",
            "_model_name": "CheckboxModel",
            "_view_count": null,
            "_view_module": "@jupyter-widgets/controls",
            "_view_module_version": "1.5.0",
            "_view_name": "CheckboxView",
            "description": "подтверждаю",
            "description_tooltip": null,
            "disabled": false,
            "indent": true,
            "layout": "IPY_MODEL_a6ad2e09ba8d4b359b29cd14e2b9be22",
            "style": "IPY_MODEL_b29502fa7a7f4c85a774ed0a397b701c",
            "value": true
          }
        },
        "a6ad2e09ba8d4b359b29cd14e2b9be22": {
          "model_module": "@jupyter-widgets/base",
          "model_name": "LayoutModel",
          "model_module_version": "1.2.0",
          "state": {
            "_model_module": "@jupyter-widgets/base",
            "_model_module_version": "1.2.0",
            "_model_name": "LayoutModel",
            "_view_count": null,
            "_view_module": "@jupyter-widgets/base",
            "_view_module_version": "1.2.0",
            "_view_name": "LayoutView",
            "align_content": null,
            "align_items": null,
            "align_self": null,
            "border": null,
            "bottom": null,
            "display": null,
            "flex": null,
            "flex_flow": null,
            "grid_area": null,
            "grid_auto_columns": null,
            "grid_auto_flow": null,
            "grid_auto_rows": null,
            "grid_column": null,
            "grid_gap": null,
            "grid_row": null,
            "grid_template_areas": null,
            "grid_template_columns": null,
            "grid_template_rows": null,
            "height": null,
            "justify_content": null,
            "justify_items": null,
            "left": null,
            "margin": null,
            "max_height": null,
            "max_width": null,
            "min_height": null,
            "min_width": null,
            "object_fit": null,
            "object_position": null,
            "order": null,
            "overflow": null,
            "overflow_x": null,
            "overflow_y": null,
            "padding": null,
            "right": null,
            "top": null,
            "visibility": null,
            "width": null
          }
        },
        "b29502fa7a7f4c85a774ed0a397b701c": {
          "model_module": "@jupyter-widgets/controls",
          "model_name": "DescriptionStyleModel",
          "model_module_version": "1.5.0",
          "state": {
            "_model_module": "@jupyter-widgets/controls",
            "_model_module_version": "1.5.0",
            "_model_name": "DescriptionStyleModel",
            "_view_count": null,
            "_view_module": "@jupyter-widgets/base",
            "_view_module_version": "1.2.0",
            "_view_name": "StyleView",
            "description_width": ""
          }
        },
        "e587d035e3634b7db7fa0c72b9039b52": {
          "model_module": "@jupyter-widgets/controls",
          "model_name": "ButtonModel",
          "model_module_version": "1.5.0",
          "state": {
            "_dom_classes": [],
            "_model_module": "@jupyter-widgets/controls",
            "_model_module_version": "1.5.0",
            "_model_name": "ButtonModel",
            "_view_count": null,
            "_view_module": "@jupyter-widgets/controls",
            "_view_module_version": "1.5.0",
            "_view_name": "ButtonView",
            "button_style": "",
            "description": "Отправить",
            "disabled": false,
            "icon": "",
            "layout": "IPY_MODEL_83e20668ba1040b1b675734fa13e27d0",
            "style": "IPY_MODEL_11a17e97397147f384f46d56fbc20994",
            "tooltip": ""
          }
        },
        "83e20668ba1040b1b675734fa13e27d0": {
          "model_module": "@jupyter-widgets/base",
          "model_name": "LayoutModel",
          "model_module_version": "1.2.0",
          "state": {
            "_model_module": "@jupyter-widgets/base",
            "_model_module_version": "1.2.0",
            "_model_name": "LayoutModel",
            "_view_count": null,
            "_view_module": "@jupyter-widgets/base",
            "_view_module_version": "1.2.0",
            "_view_name": "LayoutView",
            "align_content": null,
            "align_items": null,
            "align_self": null,
            "border": null,
            "bottom": null,
            "display": null,
            "flex": null,
            "flex_flow": null,
            "grid_area": null,
            "grid_auto_columns": null,
            "grid_auto_flow": null,
            "grid_auto_rows": null,
            "grid_column": null,
            "grid_gap": null,
            "grid_row": null,
            "grid_template_areas": null,
            "grid_template_columns": null,
            "grid_template_rows": null,
            "height": null,
            "justify_content": null,
            "justify_items": null,
            "left": null,
            "margin": null,
            "max_height": null,
            "max_width": null,
            "min_height": null,
            "min_width": null,
            "object_fit": null,
            "object_position": null,
            "order": null,
            "overflow": null,
            "overflow_x": null,
            "overflow_y": null,
            "padding": null,
            "right": null,
            "top": null,
            "visibility": null,
            "width": null
          }
        },
        "11a17e97397147f384f46d56fbc20994": {
          "model_module": "@jupyter-widgets/controls",
          "model_name": "ButtonStyleModel",
          "model_module_version": "1.5.0",
          "state": {
            "_model_module": "@jupyter-widgets/controls",
            "_model_module_version": "1.5.0",
            "_model_name": "ButtonStyleModel",
            "_view_count": null,
            "_view_module": "@jupyter-widgets/base",
            "_view_module_version": "1.2.0",
            "_view_name": "StyleView",
            "button_color": null,
            "font_weight": ""
          }
        }
      }
    }
  },
  "nbformat": 4,
  "nbformat_minor": 0
}